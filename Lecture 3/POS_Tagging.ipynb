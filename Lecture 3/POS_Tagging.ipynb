{
 "cells": [
  {
   "cell_type": "markdown",
   "id": "47ee7725-6507-4b54-8f60-7d7aa2403d68",
   "metadata": {},
   "source": [
    "$\\textbf{Parts-of-Speech Tagging}$\n",
    "-\n",
    "\n",
    "- The process of tagging words in a textual input with their appropriate part of speech\n",
    "\n",
    "\\begin{gather}\n",
    "\\begin{bmatrix}\n",
    "\\begin{array}{c|c}\n",
    "Noun & \\text{The name of a person, place, thing, or idea} \\\\\n",
    "\\hline\n",
    "Verb & \\text{The action or being} \\\\\n",
    "\\hline\n",
    "Adjective & \\text{This modifies or describes a noun or a pronoun} \\\\\n",
    "\\hline\n",
    "Adverb & \\text{This modifies or describes a verb, adjective, or another adverb Pronoun - The word to be used in place of a noun} \\\\\n",
    "\\hline\n",
    "Preposition & \\text{The word placed before a noun or pronoun to form a phrase modifying another word in the sentence} \\\\\n",
    "\\hline\n",
    "Conjunction & \\text{This joins words, phrases, or clauses Interjection - A word used to express emotion} \\\\\n",
    "\\end{array}\n",
    "\\end{bmatrix}\n",
    "\\end{gather}\n",
    "\n",
    "- There is no official list of all the parts of speech that exist.\n",
    "- POS-tagging isn't always a straightforward task and words have different POS-tags depending on the context. A simple example is the word refuse, where if it used as a verb it means to decline an offer, and when used as a noun it is used to refer to something you throw away or rubbish.\n",
    "- for identifying the POS-tag in the first place, the context is crucial – it is not possible for us to tag a word with its part of speech unless it is in a sentence or phrase."
   ]
  },
  {
   "cell_type": "markdown",
   "id": "08ae71f1-3c77-4f7a-bb57-f1b91d5ca732",
   "metadata": {},
   "source": [
    "$\\textbf{The Hidden Markov Model and Other POS Models}$\n",
    "-\n",
    "\n",
    "- Hidden Markov Models tend to be used whenever there are sequences present – this turns out to be useful because we can use information about the context of a word to predict what the POS-tag might be.\n",
    "\n",
    "- Apart from statistical models, there are also rule-based POS-taggers, which uses predefined rules to perform the tagging or learns these rules from the corpus. Of course, these methods do not throw away statistical methods, but just relies on them less.\n",
    "\n",
    "- There are other more naive methods that you can try out, just to attempt to get a feel of the task we are attempting, such as using a regular expressions to evaluate part of speech or simply storing the most likely tag for a word and tag all future occurrences with the same tag. Part of speech tagging has since moved on quite a bit though, and like most computational tasks which are being completed with high levels of accuracy, it is statistical learning or deep learning that is the way to go.\n",
    "\n",
    "- One of spaCy's very first POS-taggers was an averaged perceptron. A perceptron used for POS-tagging works by learning the probability of the tag of the word based on various features, or information – these can include the tag of the previous word or the last few letters of the word. By positively rewarding correct classification and punishing incorrect classification, this model learns weights which it uses to predict the tag of the new word. Indeed, most supervised machine learning algorithms function on similar principles, and these are the algorithms that perform well in POS-tagging tasks."
   ]
  },
  {
   "cell_type": "markdown",
   "id": "f8c96708-f0c4-4f68-877d-c6ce43e4425a",
   "metadata": {},
   "source": [
    "$\\textbf{Why POS Tag?}$\n",
    "-\n",
    "\n",
    "- POS tags have been used historically in natural language processing for a variety of reasons and purposes. One interesting such purpose is speech-to-text conversion and language translation, which is when a powerful POS-tagger can be used to disambiguate homonyms. Consider this example when a human says: I am going to fish a fish, and wishes this sentence to be translated to another language such as French or Spanish; it is vital to know whether fish here is a noun or a verb – unlike English, it is highly likely that in the target language, the word to describe the act of fishing is quite different from that of the animal.\n"
   ]
  },
  {
   "cell_type": "markdown",
   "id": "de95e3f8-0c84-425f-baf0-3b7cbd6ffe17",
   "metadata": {},
   "source": [
    "$\\textbf{POS Tag in NLTK}$\n",
    "-"
   ]
  },
  {
   "cell_type": "code",
   "execution_count": 2,
   "id": "fbac149c-0c95-4c82-b50a-7784c11fc72a",
   "metadata": {},
   "outputs": [
    {
     "data": {
      "text/plain": [
       "[('The', 'DT'),\n",
       " ('quick', 'JJ'),\n",
       " ('brown', 'NN'),\n",
       " ('fox', 'NN'),\n",
       " ('jumped', 'VBD'),\n",
       " ('over', 'IN'),\n",
       " ('the', 'DT'),\n",
       " ('lazy', 'JJ'),\n",
       " ('dog', 'NN'),\n",
       " ('.', '.')]"
      ]
     },
     "execution_count": 2,
     "metadata": {},
     "output_type": "execute_result"
    }
   ],
   "source": [
    "import nltk\n",
    "\n",
    "text = nltk.word_tokenize(\"The quick brown fox jumped over the lazy dog.\")\n",
    "nltk.pos_tag(text)"
   ]
  },
  {
   "cell_type": "markdown",
   "id": "e310291e-28ad-4731-8111-736962cbeb51",
   "metadata": {},
   "source": [
    "$Definitions$\n",
    "\n",
    "DT - Determiner\n",
    "\n",
    "JJ - Adjective\n",
    "\n",
    "NN - Noun\n",
    "\n",
    "VBD - Verb\n",
    "\n",
    "IN - Propositions and Conjunctions"
   ]
  },
  {
   "cell_type": "markdown",
   "id": "5ffaa661-48eb-4e14-b10c-b034a17e69da",
   "metadata": {},
   "source": [
    "$\\textbf{POS Tag in spaCY}$\n",
    "-"
   ]
  },
  {
   "cell_type": "code",
   "execution_count": 4,
   "id": "15db5cdb-e734-43eb-88a6-9d73fe79c973",
   "metadata": {},
   "outputs": [
    {
     "name": "stdout",
     "output_type": "stream",
     "text": [
      "The DET DT\n",
      "quick ADJ JJ\n",
      "brown ADJ JJ\n",
      "fox NOUN NN\n",
      "jumped VERB VBD\n",
      "over ADP IN\n",
      "the DET DT\n",
      "lazy ADJ JJ\n",
      "dog NOUN NN\n",
      ". PUNCT .\n"
     ]
    }
   ],
   "source": [
    "import spacy\n",
    "nlp = spacy.load(\"en_core_web_sm\")\n",
    "\n",
    "sent = nlp(\"The quick brown fox jumped over the lazy dog.\")\n",
    "\n",
    "for token in sent:\n",
    "    print(token.text, token.pos_, token.tag_)"
   ]
  }
 ],
 "metadata": {
  "kernelspec": {
   "display_name": "Python 3 (ipykernel)",
   "language": "python",
   "name": "python3"
  },
  "language_info": {
   "codemirror_mode": {
    "name": "ipython",
    "version": 3
   },
   "file_extension": ".py",
   "mimetype": "text/x-python",
   "name": "python",
   "nbconvert_exporter": "python",
   "pygments_lexer": "ipython3",
   "version": "3.8.16"
  }
 },
 "nbformat": 4,
 "nbformat_minor": 5
}
